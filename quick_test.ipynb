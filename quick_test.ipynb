{
 "cells": [
  {
   "cell_type": "code",
   "execution_count": 1,
   "metadata": {},
   "outputs": [],
   "source": [
    "import gdsfactory as gf\n",
    "import cnst\n",
    "from photonic import W1_PhC_wvg, PhC_2D_hex_lattice"
   ]
  },
  {
   "cell_type": "code",
   "execution_count": 2,
   "metadata": {},
   "outputs": [
    {
     "name": "stdout",
     "output_type": "stream",
     "text": [
      "\u001b[32m2024-09-09 17:19:30.303\u001b[0m | \u001b[1mINFO    \u001b[0m | \u001b[36mkfactory.kcell\u001b[0m:\u001b[36mshow\u001b[0m:\u001b[36m7894\u001b[0m - \u001b[1mklive v0.3.3: Opened file '/Users/lanmai/congenial-broccoli/build/gds/4044211038.oas'\u001b[0m\n",
      "\u001b[32m2024-09-09 17:19:30.305\u001b[0m | \u001b[33m\u001b[1mWARNING \u001b[0m | \u001b[36mkfactory.kcell\u001b[0m:\u001b[36mshow\u001b[0m:\u001b[36m7940\u001b[0m - \u001b[33m\u001b[1mKLayout GUI version is older than the python klayout.GUI:0.28.13 Python:0.29.5. This might cause missing,unfunctional, or erroneous features. Please update your GUI to a version equal or higher than the python version for optimal performance.\u001b[0m\n"
     ]
    }
   ],
   "source": [
    "c = PhC_2D_hex_lattice(0.065, 0.294, 1, 10, 10, 30)\n",
    "c.show()"
   ]
  }
 ],
 "metadata": {
  "kernelspec": {
   "display_name": "gdsfactory",
   "language": "python",
   "name": "python3"
  },
  "language_info": {
   "codemirror_mode": {
    "name": "ipython",
    "version": 3
   },
   "file_extension": ".py",
   "mimetype": "text/x-python",
   "name": "python",
   "nbconvert_exporter": "python",
   "pygments_lexer": "ipython3",
   "version": "3.12.2"
  }
 },
 "nbformat": 4,
 "nbformat_minor": 2
}
