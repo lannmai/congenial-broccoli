{
 "cells": [
  {
   "cell_type": "code",
   "execution_count": 4,
   "metadata": {},
   "outputs": [],
   "source": [
    "import gdsfactory as gf\n",
    "import cnst"
   ]
  },
  {
   "cell_type": "code",
   "execution_count": null,
   "metadata": {},
   "outputs": [],
   "source": [
    "cnst.run_cnst('cnst_scripts/test.cnst', \n",
    "              'CNSTNanolithographyToolboxV2016.10.01.jar',\n",
    "              '~/javafx-sdk-22.0-2.2/lib',\n",
    "              'test.gds')"
   ]
  },
  {
   "cell_type": "code",
   "execution_count": 6,
   "metadata": {},
   "outputs": [
    {
     "name": "stdout",
     "output_type": "stream",
     "text": [
      "\n",
      "Saved to: /Users/lanmai/congenial-broccoli/gds/test.gds\n",
      "\n",
      "Please acknowledge the Nanolithography Toolbox by including the following reference:\n",
      "\n",
      "The Nanolithography Toolbox, K. C. Balram, D. A. Westly, M. Davanco, K. E. Grutter, Q. Li, T. Michels, C. H. Ray, L. Yu,  R. J. Kasica,  C. B. Wallin, I. J. Gilbert, B. A. Bryce, G. Simelgor, J. Topolancik, N. Lobontiu , Y. Liu, P. Neuzil, V. Svatos, K. A. Dill, N. A. Bertrand, M. G. Metzler, G. Lopez, D. A. Czaplewski, L. Ocola, K. A. Srinivasan, S. M. Stavis, V. A. Aksyuk, J. A. Liddle, S. Krylov and B. R. Ilic, J. Res. Natl. Inst. Stand. 121, pp. 464-475 (2016).\n",
      "Warning: Off-grid AREF row vector - AREF will be split into subarrays to preserve locations (position=504, record number=19, cell=phCV)\n",
      "Warning: Off-grid AREF row vector - AREF will be split into subarrays to preserve locations (position=568, record number=25, cell=phCV)\n",
      "Warning: Off-grid AREF row vector - AREF will be split into subarrays to preserve locations (position=632, record number=31, cell=phCV)\n",
      "Warning: Off-grid AREF row vector - AREF will be split into subarrays to preserve locations (position=696, record number=37, cell=phCV)\n",
      "Warning: Off-grid AREF row vector - AREF will be split into subarrays to preserve locations (position=504, record number=19, cell=phCV)\n",
      "Warning: Off-grid AREF row vector - AREF will be split into subarrays to preserve locations (position=568, record number=25, cell=phCV)\n",
      "Warning: Off-grid AREF row vector - AREF will be split into subarrays to preserve locations (position=632, record number=31, cell=phCV)\n",
      "Warning: Off-grid AREF row vector - AREF will be split into subarrays to preserve locations (position=696, record number=37, cell=phCV)\n",
      "\u001b[32m2024-09-06 15:33:55.414\u001b[0m | \u001b[1mINFO    \u001b[0m | \u001b[36mkfactory.kcell\u001b[0m:\u001b[36mshow\u001b[0m:\u001b[36m7894\u001b[0m - \u001b[1mklive v0.3.3: Opened file '/Users/lanmai/congenial-broccoli/build/gds/854475795.oas'\u001b[0m\n",
      "\u001b[32m2024-09-06 15:33:55.423\u001b[0m | \u001b[33m\u001b[1mWARNING \u001b[0m | \u001b[36mkfactory.kcell\u001b[0m:\u001b[36mshow\u001b[0m:\u001b[36m7940\u001b[0m - \u001b[33m\u001b[1mKLayout GUI version is older than the python klayout.GUI:0.28.13 Python:0.29.5. This might cause missing,unfunctional, or erroneous features. Please update your GUI to a version equal or higher than the python version for optimal performance.\u001b[0m\n"
     ]
    }
   ],
   "source": [
    "c = cnst.cnst_to_gf('cnst_scripts/W1_PhC_wvg.cnst',\n",
    "                    'CNSTNanolithographyToolboxV2016.10.01.jar',\n",
    "                    '~/javafx-sdk-22.0-2.2/lib',\n",
    "                    'test.gds')\n",
    "\n",
    "c.flatten()\n",
    "c.show()"
   ]
  }
 ],
 "metadata": {
  "kernelspec": {
   "display_name": "gdsfactory",
   "language": "python",
   "name": "python3"
  },
  "language_info": {
   "codemirror_mode": {
    "name": "ipython",
    "version": 3
   },
   "file_extension": ".py",
   "mimetype": "text/x-python",
   "name": "python",
   "nbconvert_exporter": "python",
   "pygments_lexer": "ipython3",
   "version": "3.12.2"
  }
 },
 "nbformat": 4,
 "nbformat_minor": 2
}
