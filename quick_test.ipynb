{
 "cells": [
  {
   "cell_type": "code",
   "execution_count": 1,
   "metadata": {},
   "outputs": [],
   "source": [
    "import gdsfactory as gf\n",
    "import cnst"
   ]
  },
  {
   "cell_type": "code",
   "execution_count": 2,
   "metadata": {},
   "outputs": [
    {
     "name": "stdout",
     "output_type": "stream",
     "text": [
      "\n",
      "Saved to: /Users/lanmai/congenial-broccoli/gds/test.gds\n",
      "\n",
      "Please acknowledge the Nanolithography Toolbox by including the following reference:\n",
      "\n",
      "The Nanolithography Toolbox, K. C. Balram, D. A. Westly, M. Davanco, K. E. Grutter, Q. Li, T. Michels, C. H. Ray, L. Yu,  R. J. Kasica,  C. B. Wallin, I. J. Gilbert, B. A. Bryce, G. Simelgor, J. Topolancik, N. Lobontiu , Y. Liu, P. Neuzil, V. Svatos, K. A. Dill, N. A. Bertrand, M. G. Metzler, G. Lopez, D. A. Czaplewski, L. Ocola, K. A. Srinivasan, S. M. Stavis, V. A. Aksyuk, J. A. Liddle, S. Krylov and B. R. Ilic, J. Res. Natl. Inst. Stand. 121, pp. 464-475 (2016).\n"
     ]
    }
   ],
   "source": [
    "cnst.run_cnst('cnst_scripts/PhC_wvg_test.cnst', \n",
    "              'CNSTNanolithographyToolboxV2016.10.01.jar',\n",
    "              '~/javafx-sdk-22.0-2.2/lib',\n",
    "              'test.gds')"
   ]
  }
 ],
 "metadata": {
  "kernelspec": {
   "display_name": "gdsfactory",
   "language": "python",
   "name": "python3"
  },
  "language_info": {
   "codemirror_mode": {
    "name": "ipython",
    "version": 3
   },
   "file_extension": ".py",
   "mimetype": "text/x-python",
   "name": "python",
   "nbconvert_exporter": "python",
   "pygments_lexer": "ipython3",
   "version": "3.12.2"
  }
 },
 "nbformat": 4,
 "nbformat_minor": 2
}
